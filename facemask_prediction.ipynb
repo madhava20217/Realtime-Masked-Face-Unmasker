{
 "cells": [
  {
   "cell_type": "code",
   "execution_count": 1,
   "metadata": {},
   "outputs": [
    {
     "name": "stderr",
     "output_type": "stream",
     "text": [
      "c:\\ProgramData\\Anaconda3\\envs\\cvproject\\lib\\site-packages\\tqdm\\auto.py:21: TqdmWarning: IProgress not found. Please update jupyter and ipywidgets. See https://ipywidgets.readthedocs.io/en/stable/user_install.html\n",
      "  from .autonotebook import tqdm as notebook_tqdm\n"
     ]
    }
   ],
   "source": [
    "import glob\n",
    "import os\n",
    "import pathlib\n",
    "\n",
    "import numpy as np\n",
    "import pandas as pd\n",
    "\n",
    "from util.image import unnormalize\n",
    "\n",
    "import torch\n",
    "import torchvision\n",
    "from torch.utils.data import Dataset, DataLoader\n",
    "from torch import nn\n",
    "from torch import functional as F\n",
    "\n",
    "from torchvision import transforms\n",
    "from torchinfo import torchinfo\n",
    "from tqdm import tqdm\n",
    "import matplotlib.pyplot as plt\n",
    "\n",
    "import albumentations as A\n",
    "import torch.nn.functional as F\n",
    "\n",
    "from PIL import Image\n",
    "\n",
    "import torchmetrics\n",
    "from torchvision.utils import save_image, make_grid\n",
    "import cv2\n",
    "from util.io import load_ckpt\n",
    "\n",
    "from util.loss import  InpaintingLoss\n",
    "import os, glob\n",
    "\n",
    "import efficientunet\n",
    "import random\n",
    "\n",
    "device = torch.device('cuda:0') if torch.cuda.is_available() else torch.device(\"cpu\")"
   ]
  },
  {
   "cell_type": "code",
   "execution_count": 2,
   "metadata": {},
   "outputs": [],
   "source": [
    "dataset_path = 'Datasets/Mask detection/archive/Face Mask Dataset/'\n",
    "train_dir = dataset_path+'Train/'\n",
    "val_dir = dataset_path+'Validation/'\n",
    "test_dir = dataset_path+'Test/'"
   ]
  },
  {
   "cell_type": "code",
   "execution_count": 3,
   "metadata": {},
   "outputs": [],
   "source": [
    "sizes = (64, 64)\n",
    "\n",
    "rescale_transform = transforms.Compose([\n",
    "    transforms.ToTensor(),\n",
    "    transforms.Resize(sizes, antialias= False)\n",
    "])"
   ]
  },
  {
   "cell_type": "code",
   "execution_count": 4,
   "metadata": {},
   "outputs": [
    {
     "data": {
      "text/plain": [
       "tensor([1., 1., 1., 1., 1., 0., 0., 0., 0.])"
      ]
     },
     "execution_count": 4,
     "metadata": {},
     "output_type": "execute_result"
    }
   ],
   "source": [
    "torch.hstack([torch.ones(5), torch.zeros(4)])"
   ]
  },
  {
   "cell_type": "code",
   "execution_count": 5,
   "metadata": {},
   "outputs": [],
   "source": [
    "def get_files(path):\n",
    "    mask_files = glob.glob(path + 'WithMask/' +'*.png')\n",
    "    nomask_files = glob.glob(path + 'WithoutMask/' +'*.png')\n",
    "\n",
    "    mask_images = [rescale_transform(Image.open(x)) for x in tqdm(mask_files)]\n",
    "    unmasked_images = [rescale_transform(Image.open(x)) for x in tqdm(nomask_files)]\n",
    "\n",
    "    mask_labels = torch.ones(len(mask_images))\n",
    "    unmask_labels = torch.zeros(len(unmasked_images))\n",
    "\n",
    "    mask_images = torch.stack(mask_images)\n",
    "    unmasked_images = torch.stack(unmasked_images)\n",
    "    images = torch.vstack([mask_images, unmasked_images])\n",
    "    labels = torch.hstack([mask_labels, unmask_labels])\n",
    "\n",
    "    return images, labels"
   ]
  },
  {
   "cell_type": "code",
   "execution_count": 6,
   "metadata": {},
   "outputs": [
    {
     "name": "stderr",
     "output_type": "stream",
     "text": [
      "100%|██████████| 5000/5000 [00:17<00:00, 280.50it/s]\n",
      "100%|██████████| 5000/5000 [00:14<00:00, 341.31it/s]\n"
     ]
    }
   ],
   "source": [
    "train_images, train_labels = get_files(train_dir)"
   ]
  },
  {
   "cell_type": "code",
   "execution_count": 7,
   "metadata": {},
   "outputs": [
    {
     "name": "stderr",
     "output_type": "stream",
     "text": [
      "100%|██████████| 400/400 [00:01<00:00, 311.74it/s]\n",
      "100%|██████████| 400/400 [00:01<00:00, 390.79it/s]\n"
     ]
    }
   ],
   "source": [
    "val_images, val_labels = get_files(val_dir)"
   ]
  },
  {
   "cell_type": "code",
   "execution_count": 8,
   "metadata": {},
   "outputs": [],
   "source": [
    "class MaskDataset(Dataset):\n",
    "    def __init__(self, images, labels):\n",
    "        self.images = images\n",
    "        self.labels = labels\n",
    "\n",
    "    def __len__(self):\n",
    "        return len(self.images)\n",
    "    \n",
    "    def __getitem__(self, idx):\n",
    "        return self.images[idx], self.labels[idx]"
   ]
  },
  {
   "cell_type": "code",
   "execution_count": 9,
   "metadata": {},
   "outputs": [],
   "source": [
    "train_dataset = MaskDataset(train_images, train_labels)\n",
    "val_dataset = MaskDataset(val_images, val_labels)"
   ]
  },
  {
   "cell_type": "code",
   "execution_count": 10,
   "metadata": {},
   "outputs": [],
   "source": [
    "BATCH_SIZE = 250\n",
    "\n",
    "train_dataloader = DataLoader(train_dataset, BATCH_SIZE, shuffle = True)\n",
    "val_dataloader   = DataLoader(val_dataset, BATCH_SIZE, shuffle = False)"
   ]
  },
  {
   "cell_type": "code",
   "execution_count": 15,
   "metadata": {},
   "outputs": [],
   "source": [
    "class CNN(nn.Module):\n",
    "    def __init__(self):\n",
    "        super().__init__()\n",
    "\n",
    "        self.conv1 = nn.Conv2d(3, 5, 7)        # out = 58\n",
    "        self.conv2 = nn.Conv2d(5, 5, 3)       # in = 29, out = 13\n",
    "\n",
    "        self.pool = nn.MaxPool2d(2)\n",
    "\n",
    "        self.fc1 = nn.Linear(5 * 13 * 13, 64)\n",
    "        self.o_n = nn.Linear(64, 1)\n",
    "\n",
    "\n",
    "        self.flatten = nn.Flatten()\n",
    "        self.activation = nn.ReLU()\n",
    "\n",
    "    def forward(self, inpt):\n",
    "        out = self.activation(self.conv1(inpt))\n",
    "        out = self.pool(out)\n",
    "        \n",
    "        out = self.activation(self.conv2(out))\n",
    "        out = self.pool(out)\n",
    "\n",
    "        out = self.flatten(out)\n",
    "\n",
    "        out = self.activation(self.fc1(out))\n",
    "        out = self.o_n(out)\n",
    "\n",
    "        return out"
   ]
  },
  {
   "cell_type": "code",
   "execution_count": 16,
   "metadata": {},
   "outputs": [],
   "source": [
    "class EarlyStopping:\n",
    "\n",
    "    def __init__(self, patience=5, verbose=False, delta=0, path='checkpoint.pt', trace_func=print):\n",
    "        self.patience = patience\n",
    "        self.verbose = verbose\n",
    "        self.counter = 0\n",
    "        self.best_score = None\n",
    "        self.early_stop = False\n",
    "        self.val_loss_min = np.Inf\n",
    "        self.delta = delta\n",
    "        self.path = path\n",
    "        self.trace_func = trace_func\n",
    "        \n",
    "    def __call__(self, val_loss, model):\n",
    "\n",
    "        score = -val_loss\n",
    "\n",
    "        if self.best_score is None:\n",
    "            self.best_score = score\n",
    "            self.save_checkpoint(val_loss, model)\n",
    "\n",
    "        elif score < self.best_score + self.delta:\n",
    "            self.counter += 1\n",
    "            self.trace_func(f'EarlyStopping counter: {self.counter} out of {self.patience}')\n",
    "            if self.counter >= self.patience:\n",
    "                self.early_stop = True\n",
    "\n",
    "        else:\n",
    "            self.best_score = score\n",
    "            self.save_checkpoint(val_loss, model)\n",
    "            self.counter = 0\n",
    "\n",
    "    def save_checkpoint(self, val_loss, model):\n",
    "        if self.verbose:\n",
    "            self.trace_func(f'Validation loss decreased ({self.val_loss_min:.6f} --> {val_loss:.6f}).  Saving model ...')\n",
    "        torch.save(model.state_dict(), self.path)\n",
    "        self.val_loss_min = val_loss"
   ]
  },
  {
   "cell_type": "code",
   "execution_count": 17,
   "metadata": {},
   "outputs": [
    {
     "data": {
      "text/plain": [
       "==========================================================================================\n",
       "Layer (type:depth-idx)                   Output Shape              Param #\n",
       "==========================================================================================\n",
       "CNN                                      [5, 1]                    --\n",
       "├─Conv2d: 1-1                            [5, 5, 58, 58]            740\n",
       "├─ReLU: 1-2                              [5, 5, 58, 58]            --\n",
       "├─MaxPool2d: 1-3                         [5, 5, 29, 29]            --\n",
       "├─Conv2d: 1-4                            [5, 5, 27, 27]            230\n",
       "├─ReLU: 1-5                              [5, 5, 27, 27]            --\n",
       "├─MaxPool2d: 1-6                         [5, 5, 13, 13]            --\n",
       "├─Flatten: 1-7                           [5, 845]                  --\n",
       "├─Linear: 1-8                            [5, 64]                   54,144\n",
       "├─ReLU: 1-9                              [5, 64]                   --\n",
       "├─Linear: 1-10                           [5, 1]                    65\n",
       "==========================================================================================\n",
       "Total params: 55,179\n",
       "Trainable params: 55,179\n",
       "Non-trainable params: 0\n",
       "Total mult-adds (M): 13.56\n",
       "==========================================================================================\n",
       "Input size (MB): 0.25\n",
       "Forward/backward pass size (MB): 0.82\n",
       "Params size (MB): 0.22\n",
       "Estimated Total Size (MB): 1.29\n",
       "=========================================================================================="
      ]
     },
     "execution_count": 17,
     "metadata": {},
     "output_type": "execute_result"
    }
   ],
   "source": [
    "torchinfo.summary(CNN(), (5, 3, 64, 64))"
   ]
  },
  {
   "cell_type": "code",
   "execution_count": 18,
   "metadata": {},
   "outputs": [
    {
     "name": "stderr",
     "output_type": "stream",
     "text": [
      "Training loss: 0.4465, accuracy = 0.7924: 100%|██████████| 40/40 [00:00<00:00, 52.30it/s]\n",
      "Validation loss: 0.2635, accuracy = 0.8950: 100%|██████████| 4/4 [00:00<00:00, 121.58it/s]\n"
     ]
    },
    {
     "name": "stdout",
     "output_type": "stream",
     "text": [
      "Epoch [1/25], Train Loss: 0.4465, Train Accuracy: 0.7924\n",
      "Epoch [1/25], Val Loss: 0.2635, Val Accuracy: 0.8950\n",
      "Validation loss decreased (inf --> 0.263547).  Saving model ...\n"
     ]
    },
    {
     "name": "stderr",
     "output_type": "stream",
     "text": [
      "Training loss: 0.2075, accuracy = 0.9213: 100%|██████████| 40/40 [00:00<00:00, 91.60it/s]\n",
      "Validation loss: 0.1868, accuracy = 0.9350: 100%|██████████| 4/4 [00:00<00:00, 139.06it/s]\n"
     ]
    },
    {
     "name": "stdout",
     "output_type": "stream",
     "text": [
      "Epoch [2/25], Train Loss: 0.2075, Train Accuracy: 0.9213\n",
      "Epoch [2/25], Val Loss: 0.1868, Val Accuracy: 0.9350\n",
      "Validation loss decreased (0.263547 --> 0.186780).  Saving model ...\n"
     ]
    },
    {
     "name": "stderr",
     "output_type": "stream",
     "text": [
      "Training loss: 0.1689, accuracy = 0.9401: 100%|██████████| 40/40 [00:00<00:00, 87.78it/s]\n",
      "Validation loss: 0.1797, accuracy = 0.9425: 100%|██████████| 4/4 [00:00<00:00, 132.98it/s]\n"
     ]
    },
    {
     "name": "stdout",
     "output_type": "stream",
     "text": [
      "Epoch [3/25], Train Loss: 0.1689, Train Accuracy: 0.9401\n",
      "Epoch [3/25], Val Loss: 0.1797, Val Accuracy: 0.9425\n",
      "Validation loss decreased (0.186780 --> 0.179735).  Saving model ...\n"
     ]
    },
    {
     "name": "stderr",
     "output_type": "stream",
     "text": [
      "Training loss: 0.1480, accuracy = 0.9487: 100%|██████████| 40/40 [00:00<00:00, 84.73it/s]\n",
      "Validation loss: 0.1512, accuracy = 0.9525: 100%|██████████| 4/4 [00:00<00:00, 112.09it/s]\n"
     ]
    },
    {
     "name": "stdout",
     "output_type": "stream",
     "text": [
      "Epoch [4/25], Train Loss: 0.1480, Train Accuracy: 0.9487\n",
      "Epoch [4/25], Val Loss: 0.1512, Val Accuracy: 0.9525\n",
      "Validation loss decreased (0.179735 --> 0.151184).  Saving model ...\n"
     ]
    },
    {
     "name": "stderr",
     "output_type": "stream",
     "text": [
      "Training loss: 0.1314, accuracy = 0.9542: 100%|██████████| 40/40 [00:00<00:00, 80.42it/s]\n",
      "Validation loss: 0.1403, accuracy = 0.9588: 100%|██████████| 4/4 [00:00<00:00, 122.76it/s]\n"
     ]
    },
    {
     "name": "stdout",
     "output_type": "stream",
     "text": [
      "Epoch [5/25], Train Loss: 0.1314, Train Accuracy: 0.9542\n",
      "Epoch [5/25], Val Loss: 0.1403, Val Accuracy: 0.9588\n",
      "Validation loss decreased (0.151184 --> 0.140292).  Saving model ...\n"
     ]
    },
    {
     "name": "stderr",
     "output_type": "stream",
     "text": [
      "Training loss: 0.1147, accuracy = 0.9605: 100%|██████████| 40/40 [00:00<00:00, 80.13it/s]\n",
      "Validation loss: 0.1282, accuracy = 0.9438: 100%|██████████| 4/4 [00:00<00:00, 132.26it/s]\n"
     ]
    },
    {
     "name": "stdout",
     "output_type": "stream",
     "text": [
      "Epoch [6/25], Train Loss: 0.1147, Train Accuracy: 0.9605\n",
      "Epoch [6/25], Val Loss: 0.1282, Val Accuracy: 0.9438\n",
      "Validation loss decreased (0.140292 --> 0.128247).  Saving model ...\n"
     ]
    },
    {
     "name": "stderr",
     "output_type": "stream",
     "text": [
      "Training loss: 0.1064, accuracy = 0.9604: 100%|██████████| 40/40 [00:00<00:00, 82.63it/s]\n",
      "Validation loss: 0.0919, accuracy = 0.9688: 100%|██████████| 4/4 [00:00<00:00, 123.79it/s]\n"
     ]
    },
    {
     "name": "stdout",
     "output_type": "stream",
     "text": [
      "Epoch [7/25], Train Loss: 0.1064, Train Accuracy: 0.9604\n",
      "Epoch [7/25], Val Loss: 0.0919, Val Accuracy: 0.9688\n",
      "Validation loss decreased (0.128247 --> 0.091927).  Saving model ...\n"
     ]
    },
    {
     "name": "stderr",
     "output_type": "stream",
     "text": [
      "Training loss: 0.0881, accuracy = 0.9687: 100%|██████████| 40/40 [00:00<00:00, 86.39it/s]\n",
      "Validation loss: 0.0763, accuracy = 0.9775: 100%|██████████| 4/4 [00:00<00:00, 120.69it/s]\n"
     ]
    },
    {
     "name": "stdout",
     "output_type": "stream",
     "text": [
      "Epoch [8/25], Train Loss: 0.0881, Train Accuracy: 0.9687\n",
      "Epoch [8/25], Val Loss: 0.0763, Val Accuracy: 0.9775\n",
      "Validation loss decreased (0.091927 --> 0.076259).  Saving model ...\n"
     ]
    },
    {
     "name": "stderr",
     "output_type": "stream",
     "text": [
      "Training loss: 0.0821, accuracy = 0.9695: 100%|██████████| 40/40 [00:00<00:00, 87.33it/s]\n",
      "Validation loss: 0.0875, accuracy = 0.9787: 100%|██████████| 4/4 [00:00<00:00, 126.03it/s]\n"
     ]
    },
    {
     "name": "stdout",
     "output_type": "stream",
     "text": [
      "Epoch [9/25], Train Loss: 0.0821, Train Accuracy: 0.9695\n",
      "Epoch [9/25], Val Loss: 0.0875, Val Accuracy: 0.9787\n",
      "EarlyStopping counter: 1 out of 3\n"
     ]
    },
    {
     "name": "stderr",
     "output_type": "stream",
     "text": [
      "Training loss: 0.0680, accuracy = 0.9767: 100%|██████████| 40/40 [00:00<00:00, 85.05it/s]\n",
      "Validation loss: 0.0720, accuracy = 0.9787: 100%|██████████| 4/4 [00:00<00:00, 127.79it/s]\n"
     ]
    },
    {
     "name": "stdout",
     "output_type": "stream",
     "text": [
      "Epoch [10/25], Train Loss: 0.0680, Train Accuracy: 0.9767\n",
      "Epoch [10/25], Val Loss: 0.0720, Val Accuracy: 0.9787\n",
      "Validation loss decreased (0.076259 --> 0.072005).  Saving model ...\n"
     ]
    },
    {
     "name": "stderr",
     "output_type": "stream",
     "text": [
      "Training loss: 0.0625, accuracy = 0.9784: 100%|██████████| 40/40 [00:00<00:00, 88.02it/s]\n",
      "Validation loss: 0.0737, accuracy = 0.9825: 100%|██████████| 4/4 [00:00<00:00, 133.07it/s]\n"
     ]
    },
    {
     "name": "stdout",
     "output_type": "stream",
     "text": [
      "Epoch [11/25], Train Loss: 0.0625, Train Accuracy: 0.9784\n",
      "Epoch [11/25], Val Loss: 0.0737, Val Accuracy: 0.9825\n",
      "EarlyStopping counter: 1 out of 3\n"
     ]
    },
    {
     "name": "stderr",
     "output_type": "stream",
     "text": [
      "Training loss: 0.0583, accuracy = 0.9798: 100%|██████████| 40/40 [00:00<00:00, 85.17it/s]\n",
      "Validation loss: 0.0557, accuracy = 0.9850: 100%|██████████| 4/4 [00:00<00:00, 114.87it/s]\n"
     ]
    },
    {
     "name": "stdout",
     "output_type": "stream",
     "text": [
      "Epoch [12/25], Train Loss: 0.0583, Train Accuracy: 0.9798\n",
      "Epoch [12/25], Val Loss: 0.0557, Val Accuracy: 0.9850\n",
      "Validation loss decreased (0.072005 --> 0.055701).  Saving model ...\n"
     ]
    },
    {
     "name": "stderr",
     "output_type": "stream",
     "text": [
      "Training loss: 0.0530, accuracy = 0.9811: 100%|██████████| 40/40 [00:00<00:00, 72.77it/s]\n",
      "Validation loss: 0.0876, accuracy = 0.9800: 100%|██████████| 4/4 [00:00<00:00, 114.56it/s]\n"
     ]
    },
    {
     "name": "stdout",
     "output_type": "stream",
     "text": [
      "Epoch [13/25], Train Loss: 0.0530, Train Accuracy: 0.9811\n",
      "Epoch [13/25], Val Loss: 0.0876, Val Accuracy: 0.9800\n",
      "EarlyStopping counter: 1 out of 3\n"
     ]
    },
    {
     "name": "stderr",
     "output_type": "stream",
     "text": [
      "Training loss: 0.0472, accuracy = 0.9834: 100%|██████████| 40/40 [00:00<00:00, 68.60it/s]\n",
      "Validation loss: 0.0581, accuracy = 0.9837: 100%|██████████| 4/4 [00:00<00:00, 117.41it/s]\n"
     ]
    },
    {
     "name": "stdout",
     "output_type": "stream",
     "text": [
      "Epoch [14/25], Train Loss: 0.0472, Train Accuracy: 0.9834\n",
      "Epoch [14/25], Val Loss: 0.0581, Val Accuracy: 0.9837\n",
      "EarlyStopping counter: 2 out of 3\n"
     ]
    },
    {
     "name": "stderr",
     "output_type": "stream",
     "text": [
      "Training loss: 0.0419, accuracy = 0.9852: 100%|██████████| 40/40 [00:00<00:00, 61.64it/s]\n",
      "Validation loss: 0.0385, accuracy = 0.9925: 100%|██████████| 4/4 [00:00<00:00, 119.09it/s]\n"
     ]
    },
    {
     "name": "stdout",
     "output_type": "stream",
     "text": [
      "Epoch [15/25], Train Loss: 0.0419, Train Accuracy: 0.9852\n",
      "Epoch [15/25], Val Loss: 0.0385, Val Accuracy: 0.9925\n",
      "Validation loss decreased (0.055701 --> 0.038547).  Saving model ...\n"
     ]
    },
    {
     "name": "stderr",
     "output_type": "stream",
     "text": [
      "Training loss: 0.0373, accuracy = 0.9878: 100%|██████████| 40/40 [00:00<00:00, 74.66it/s]\n",
      "Validation loss: 0.0437, accuracy = 0.9900: 100%|██████████| 4/4 [00:00<00:00, 66.74it/s]\n"
     ]
    },
    {
     "name": "stdout",
     "output_type": "stream",
     "text": [
      "Epoch [16/25], Train Loss: 0.0373, Train Accuracy: 0.9878\n",
      "Epoch [16/25], Val Loss: 0.0437, Val Accuracy: 0.9900\n",
      "EarlyStopping counter: 1 out of 3\n"
     ]
    },
    {
     "name": "stderr",
     "output_type": "stream",
     "text": [
      "Training loss: 0.0350, accuracy = 0.9877: 100%|██████████| 40/40 [00:00<00:00, 71.30it/s]\n",
      "Validation loss: 0.0389, accuracy = 0.9887: 100%|██████████| 4/4 [00:00<00:00, 110.50it/s]\n"
     ]
    },
    {
     "name": "stdout",
     "output_type": "stream",
     "text": [
      "Epoch [17/25], Train Loss: 0.0350, Train Accuracy: 0.9877\n",
      "Epoch [17/25], Val Loss: 0.0389, Val Accuracy: 0.9887\n",
      "EarlyStopping counter: 2 out of 3\n"
     ]
    },
    {
     "name": "stderr",
     "output_type": "stream",
     "text": [
      "Training loss: 0.0438, accuracy = 0.9841: 100%|██████████| 40/40 [00:00<00:00, 77.51it/s]\n",
      "Validation loss: 0.0276, accuracy = 0.9937: 100%|██████████| 4/4 [00:00<00:00, 133.04it/s]\n"
     ]
    },
    {
     "name": "stdout",
     "output_type": "stream",
     "text": [
      "Epoch [18/25], Train Loss: 0.0438, Train Accuracy: 0.9841\n",
      "Epoch [18/25], Val Loss: 0.0276, Val Accuracy: 0.9937\n",
      "Validation loss decreased (0.038547 --> 0.027570).  Saving model ...\n"
     ]
    },
    {
     "name": "stderr",
     "output_type": "stream",
     "text": [
      "Training loss: 0.0313, accuracy = 0.9881: 100%|██████████| 40/40 [00:00<00:00, 81.06it/s]\n",
      "Validation loss: 0.0305, accuracy = 0.9925: 100%|██████████| 4/4 [00:00<00:00, 89.08it/s]\n"
     ]
    },
    {
     "name": "stdout",
     "output_type": "stream",
     "text": [
      "Epoch [19/25], Train Loss: 0.0313, Train Accuracy: 0.9881\n",
      "Epoch [19/25], Val Loss: 0.0305, Val Accuracy: 0.9925\n",
      "EarlyStopping counter: 1 out of 3\n"
     ]
    },
    {
     "name": "stderr",
     "output_type": "stream",
     "text": [
      "Training loss: 0.0269, accuracy = 0.9904: 100%|██████████| 40/40 [00:00<00:00, 76.80it/s]\n",
      "Validation loss: 0.0233, accuracy = 0.9925: 100%|██████████| 4/4 [00:00<00:00, 132.89it/s]\n"
     ]
    },
    {
     "name": "stdout",
     "output_type": "stream",
     "text": [
      "Epoch [20/25], Train Loss: 0.0269, Train Accuracy: 0.9904\n",
      "Epoch [20/25], Val Loss: 0.0233, Val Accuracy: 0.9925\n",
      "Validation loss decreased (0.027570 --> 0.023325).  Saving model ...\n"
     ]
    },
    {
     "name": "stderr",
     "output_type": "stream",
     "text": [
      "Training loss: 0.0276, accuracy = 0.9901: 100%|██████████| 40/40 [00:00<00:00, 87.87it/s]\n",
      "Validation loss: 0.0215, accuracy = 0.9937: 100%|██████████| 4/4 [00:00<00:00, 128.76it/s]\n"
     ]
    },
    {
     "name": "stdout",
     "output_type": "stream",
     "text": [
      "Epoch [21/25], Train Loss: 0.0276, Train Accuracy: 0.9901\n",
      "Epoch [21/25], Val Loss: 0.0215, Val Accuracy: 0.9937\n",
      "Validation loss decreased (0.023325 --> 0.021504).  Saving model ...\n"
     ]
    },
    {
     "name": "stderr",
     "output_type": "stream",
     "text": [
      "Training loss: 0.0247, accuracy = 0.9914: 100%|██████████| 40/40 [00:00<00:00, 87.25it/s]\n",
      "Validation loss: 0.0310, accuracy = 0.9912: 100%|██████████| 4/4 [00:00<00:00, 134.35it/s]\n"
     ]
    },
    {
     "name": "stdout",
     "output_type": "stream",
     "text": [
      "Epoch [22/25], Train Loss: 0.0247, Train Accuracy: 0.9914\n",
      "Epoch [22/25], Val Loss: 0.0310, Val Accuracy: 0.9912\n",
      "EarlyStopping counter: 1 out of 3\n"
     ]
    },
    {
     "name": "stderr",
     "output_type": "stream",
     "text": [
      "Training loss: 0.0225, accuracy = 0.9925: 100%|██████████| 40/40 [00:00<00:00, 83.95it/s]\n",
      "Validation loss: 0.0199, accuracy = 0.9937: 100%|██████████| 4/4 [00:00<00:00, 118.70it/s]\n"
     ]
    },
    {
     "name": "stdout",
     "output_type": "stream",
     "text": [
      "Epoch [23/25], Train Loss: 0.0225, Train Accuracy: 0.9925\n",
      "Epoch [23/25], Val Loss: 0.0199, Val Accuracy: 0.9937\n",
      "Validation loss decreased (0.021504 --> 0.019858).  Saving model ...\n"
     ]
    },
    {
     "name": "stderr",
     "output_type": "stream",
     "text": [
      "Training loss: 0.0191, accuracy = 0.9933: 100%|██████████| 40/40 [00:00<00:00, 66.59it/s]\n",
      "Validation loss: 0.0183, accuracy = 0.9950: 100%|██████████| 4/4 [00:00<00:00, 132.73it/s]\n"
     ]
    },
    {
     "name": "stdout",
     "output_type": "stream",
     "text": [
      "Epoch [24/25], Train Loss: 0.0191, Train Accuracy: 0.9933\n",
      "Epoch [24/25], Val Loss: 0.0183, Val Accuracy: 0.9950\n",
      "Validation loss decreased (0.019858 --> 0.018292).  Saving model ...\n"
     ]
    },
    {
     "name": "stderr",
     "output_type": "stream",
     "text": [
      "Training loss: 0.0193, accuracy = 0.9934: 100%|██████████| 40/40 [00:00<00:00, 79.86it/s]\n",
      "Validation loss: 0.0162, accuracy = 0.9962: 100%|██████████| 4/4 [00:00<00:00, 128.75it/s]"
     ]
    },
    {
     "name": "stdout",
     "output_type": "stream",
     "text": [
      "Epoch [25/25], Train Loss: 0.0193, Train Accuracy: 0.9934\n",
      "Epoch [25/25], Val Loss: 0.0162, Val Accuracy: 0.9962\n",
      "Validation loss decreased (0.018292 --> 0.016159).  Saving model ...\n"
     ]
    },
    {
     "name": "stderr",
     "output_type": "stream",
     "text": [
      "\n"
     ]
    }
   ],
   "source": [
    "EPOCHS = 25\n",
    "\n",
    "train_acc = torchmetrics.classification.BinaryAccuracy().to(device)\n",
    "val_acc = torchmetrics.classification.BinaryAccuracy().to(device)\n",
    "\n",
    "model = CNN().to(device)\n",
    "optim = torch.optim.Adam(model.parameters(), lr = 1e-3)\n",
    "criterion = torch.nn.BCELoss()\n",
    "early_stopping = EarlyStopping(patience=3, verbose=True, path = 'mask_model.pth')\n",
    "\n",
    "\n",
    "for epoch_num in range(EPOCHS):\n",
    "    train_loss = 0\n",
    "    i = 0\n",
    "\n",
    "    bar = tqdm(train_dataloader)\n",
    "    for img, label in bar:\n",
    "        i+=1\n",
    "        optim.zero_grad()\n",
    "\n",
    "        img = img.to(device)\n",
    "        label = label.to(device).unsqueeze(1)\n",
    "        predictions = F.sigmoid(model(img))\n",
    "\n",
    "        batch_loss = criterion(predictions, label)\n",
    "\n",
    "        train_acc(predictions, label)\n",
    "        batch_loss.backward()\n",
    "        optim.step()\n",
    "\n",
    "        train_loss+= batch_loss.item()\n",
    "        bar.set_description_str(\"Training loss: {:.4f}, accuracy = {:.4f}\".format(train_loss/i, train_acc.compute()))\n",
    "\n",
    "    train_loss/=i\n",
    "\n",
    "    \n",
    "    with torch.no_grad():\n",
    "        val_loss = 0\n",
    "        i = 0\n",
    "        bar = tqdm(val_dataloader)\n",
    "        for img, label in bar:\n",
    "            i+=1\n",
    "            optim.zero_grad()\n",
    "\n",
    "            img = img.to(device)\n",
    "            label = label.to(device).unsqueeze(1)\n",
    "            predictions = F.sigmoid(model(img))\n",
    "\n",
    "            batch_loss = criterion(predictions, label)\n",
    "\n",
    "            \n",
    "            val_acc(predictions, label)\n",
    "            val_loss+= batch_loss.item()\n",
    "            bar.set_description_str(\"Validation loss: {:.4f}, accuracy = {:.4f}\".format(val_loss/i, val_acc.compute()))\n",
    "\n",
    "        val_loss/=i\n",
    "\n",
    "\n",
    "    print(\"Epoch [{}/{}], Train Loss: {:.4f}, Train Accuracy: {:.4f}\".format(epoch_num+1, EPOCHS, train_loss, train_acc.compute()))\n",
    "    print(\"Epoch [{}/{}], Val Loss: {:.4f}, Val Accuracy: {:.4f}\".format(epoch_num+1, EPOCHS, val_loss, val_acc.compute()))\n",
    "    early_stopping(val_loss, model)\n",
    "\n",
    "    train_acc.reset()\n",
    "    val_acc.reset()\n",
    "\n",
    "    if early_stopping.early_stop:\n",
    "        print(\"Early stopping\")\n",
    "        print('-'*60)\n",
    "        break"
   ]
  },
  {
   "cell_type": "code",
   "execution_count": null,
   "metadata": {},
   "outputs": [],
   "source": []
  }
 ],
 "metadata": {
  "kernelspec": {
   "display_name": "Python 3.10.0 ('cvproject')",
   "language": "python",
   "name": "python3"
  },
  "language_info": {
   "codemirror_mode": {
    "name": "ipython",
    "version": 3
   },
   "file_extension": ".py",
   "mimetype": "text/x-python",
   "name": "python",
   "nbconvert_exporter": "python",
   "pygments_lexer": "ipython3",
   "version": "3.10.0"
  },
  "orig_nbformat": 4,
  "vscode": {
   "interpreter": {
    "hash": "8e9b273093b79eabda493c170a15e7ff42f4736405ada6f2b68f061601f943a3"
   }
  }
 },
 "nbformat": 4,
 "nbformat_minor": 2
}
